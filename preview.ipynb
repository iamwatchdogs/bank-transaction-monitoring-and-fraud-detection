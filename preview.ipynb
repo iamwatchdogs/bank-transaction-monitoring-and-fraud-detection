{
 "cells": [
  {
   "cell_type": "markdown",
   "id": "8fbf1b99-170f-417c-8127-f3a62800a1ac",
   "metadata": {
    "tags": []
   },
   "source": [
    "# Project: Bank Transaction Monitoring and Fraud Detection Pipeline "
   ]
  },
  {
   "cell_type": "markdown",
   "id": "bb5409e4-ed83-424e-a536-6a7ac6cffb66",
   "metadata": {
    "tags": []
   },
   "source": [
    "## Project Details"
   ]
  },
  {
   "cell_type": "markdown",
   "id": "f2b00062-facc-4427-b843-db430fe1c3c4",
   "metadata": {},
   "source": [
    "In the modern digital banking ecosystem, millions of transactions occur daily through ATMs, online\n",
    "portals, and physical branches. These transactions need to be analyzed for operational efficiency,\n",
    "compliance reporting, and fraud detection.\n",
    "\n",
    "As part of the Data Engineering team at a leading bank, your goal is to design and implement a robust\n",
    "ETL pipeline that performs both:\n",
    "    \n",
    "- Batch Processing for historical transaction analysis and reporting.\n",
    "- Real-time Stream Processing to identify potentially fraudulent transactions as they occur.\n",
    "\n",
    "You will build this solution using a Big Data stack including HDFS, Hive, HBase, PySpark, SparkSQL\n",
    "(DataFrame API), Spark Streaming, and Kafka.\n"
   ]
  },
  {
   "cell_type": "markdown",
   "id": "6266d770-4a96-4f6a-937f-97dc2ba4ab2a",
   "metadata": {
    "jp-MarkdownHeadingCollapsed": true,
    "tags": []
   },
   "source": [
    "### Project Goals"
   ]
  },
  {
   "cell_type": "markdown",
   "id": "d1e6e302-9227-49c0-965f-e348978824dc",
   "metadata": {
    "jp-MarkdownHeadingCollapsed": true,
    "tags": []
   },
   "source": [
    "- Build a robust batch processing pipeline to clean, process, and analyze historical transactions.\n",
    "- Develop a real-time streaming pipeline to detect suspicious activities and store alerts with low latency.\n",
    "- Generate actionable analytical reports and insights using SparkSQL.\n",
    "- Use industry-standard tools across data ingestion, storage, processing, and output layers."
   ]
  },
  {
   "cell_type": "markdown",
   "id": "61f2d2a9-6947-453d-af08-a20af13a2967",
   "metadata": {
    "jp-MarkdownHeadingCollapsed": true,
    "tags": []
   },
   "source": [
    "### Dataset"
   ]
  },
  {
   "cell_type": "markdown",
   "id": "373b05ec-f1ca-445b-9c32-b1d4e38706d0",
   "metadata": {},
   "source": [
    "- Batch Input File: banking_transaction.csv\n",
    "- Real-Time Input: Same schema simulated using a Kafka producer.\n",
    "\n",
    "### Dataset Fields\n",
    "\n",
    "|       Column     |                 Description                  |\n",
    "| :--------------: | -------------------------------------------- |\n",
    "| transaction_id   | Unique transaction identifier                |\n",
    "| customer_id      | ID of the customer                           |\n",
    "| timestamp        | DateTime of the transaction (ISO format)     |\n",
    "| amount           | Transaction amount in INR                    |\n",
    "| transaction_type | Type of transaction: deposit / withdrawal    |\n",
    "| channel          | Source of transaction: ATM / Online / Branch |\n",
    "| status           | Transaction result: success / failed         |"
   ]
  },
  {
   "cell_type": "markdown",
   "id": "079114dd-ff53-4122-abf5-f1558c19377d",
   "metadata": {},
   "source": [
    "---"
   ]
  },
  {
   "cell_type": "markdown",
   "id": "c92bc6e6-ea8c-49e1-8935-75dc14ec19f4",
   "metadata": {
    "jp-MarkdownHeadingCollapsed": true,
    "tags": []
   },
   "source": [
    "## Setting ENV variables for kafka support"
   ]
  },
  {
   "cell_type": "code",
   "execution_count": 5,
   "id": "ad627d37-2e9d-431f-a5f1-c383917d973d",
   "metadata": {
    "scrolled": true,
    "tags": []
   },
   "outputs": [
    {
     "data": {
      "text/plain": [
       "environ{'LANG': 'C.UTF-8',\n",
       "        'PATH': '/opt/anaconda3/bin:/bin:/usr/local/sbin:/usr/local/bin:/usr/sbin:/usr/bin:/opt/hadoop/bin',\n",
       "        'HOME': '/home/shamithna75gedu',\n",
       "        'LOGNAME': 'shamithna75gedu',\n",
       "        'USER': 'shamithna75gedu',\n",
       "        'SHELL': '/bin/bash',\n",
       "        'INVOCATION_ID': 'd5d8282707a44410a02eb8595f14b87f',\n",
       "        'JOURNAL_STREAM': '8:214551749',\n",
       "        'RUNTIME_DIRECTORY': '/run/jupyter-shamithna75gedu-singleuser',\n",
       "        'CPU_GUARANTEE': '1.0',\n",
       "        'CPU_LIMIT': '1.0',\n",
       "        'HADOOP_CONF_DIR': '/opt/hadoop/etc/hadoop',\n",
       "        'JAVA_HOME': '/usr/lib/jvm/java-8-openjdk-amd64/',\n",
       "        'JPY_API_TOKEN': '91fc0a54c3b346609e6238a734a45bb9',\n",
       "        'JUPYTERHUB_ACTIVITY_URL': 'http://127.0.0.1:8081/jupyter/hub/api/users/shamithna75gedu/activity',\n",
       "        'JUPYTERHUB_ADMIN_ACCESS': '1',\n",
       "        'JUPYTERHUB_API_TOKEN': '91fc0a54c3b346609e6238a734a45bb9',\n",
       "        'JUPYTERHUB_API_URL': 'http://127.0.0.1:8081/jupyter/hub/api',\n",
       "        'JUPYTERHUB_BASE_URL': '/jupyter/',\n",
       "        'JUPYTERHUB_CLIENT_ID': 'jupyterhub-user-shamithna75gedu',\n",
       "        'JUPYTERHUB_DEFAULT_URL': '/lab',\n",
       "        'JUPYTERHUB_HOST': '',\n",
       "        'JUPYTERHUB_OAUTH_ACCESS_SCOPES': '[\"access:servers!server=shamithna75gedu/\", \"access:servers!user=shamithna75gedu\"]',\n",
       "        'JUPYTERHUB_OAUTH_CALLBACK_URL': '/jupyter/user/shamithna75gedu/oauth_callback',\n",
       "        'JUPYTERHUB_OAUTH_CLIENT_ALLOWED_SCOPES': '[]',\n",
       "        'JUPYTERHUB_OAUTH_SCOPES': '[\"access:servers!server=shamithna75gedu/\", \"access:servers!user=shamithna75gedu\"]',\n",
       "        'JUPYTERHUB_SERVER_NAME': '',\n",
       "        'JUPYTERHUB_SERVICE_PREFIX': '/jupyter/user/shamithna75gedu/',\n",
       "        'JUPYTERHUB_SERVICE_URL': 'http://127.0.0.1:54971/jupyter/user/shamithna75gedu/',\n",
       "        'JUPYTERHUB_USER': 'shamithna75gedu',\n",
       "        'MEM_GUARANTEE': '1073741824',\n",
       "        'MEM_LIMIT': '4294967296',\n",
       "        'PYSPARK_DRIVER_PYTHON': '/opt/anaconda3/bin/python3',\n",
       "        'PYSPARK_DRIVER_PYTHON_OPTS': 'hub',\n",
       "        'PYSPARK_PYTHON': '/opt/anaconda3/bin/python3',\n",
       "        'SPARK_CONF_DIR': '/opt/spark-3.1.2/conf',\n",
       "        'JUPYTERHUB_SINGLEUSER_APP': 'jupyter_server.serverapp.ServerApp',\n",
       "        'PYDEVD_USE_FRAME_EVAL': 'NO',\n",
       "        'JPY_PARENT_PID': '2556286',\n",
       "        'TERM': 'xterm-color',\n",
       "        'CLICOLOR': '1',\n",
       "        'PAGER': 'cat',\n",
       "        'GIT_PAGER': 'cat',\n",
       "        'MPLBACKEND': 'module://matplotlib_inline.backend_inline',\n",
       "        'PYSPARK_SUBMIT_ARGS': '--packages org.apache.spark:spark-sql-kafka-0-10_2.12:3.1.2 pyspark-shell'}"
      ]
     },
     "execution_count": 5,
     "metadata": {},
     "output_type": "execute_result"
    }
   ],
   "source": [
    "import os\n",
    "\n",
    "os.environ['PYSPARK_SUBMIT_ARGS'] = '--packages org.apache.spark:spark-sql-kafka-0-10_2.12:3.1.2 pyspark-shell'\n",
    "os.environ"
   ]
  },
  {
   "cell_type": "markdown",
   "id": "c87c357d-fe56-44e5-bfc0-6265626deb66",
   "metadata": {},
   "source": [
    "---"
   ]
  },
  {
   "cell_type": "markdown",
   "id": "8f8913a2-a86f-4d22-9831-f6d67fcb5082",
   "metadata": {
    "jp-MarkdownHeadingCollapsed": true,
    "tags": []
   },
   "source": [
    "## Data Ingestion (Batch)"
   ]
  },
  {
   "cell_type": "markdown",
   "id": "d9bada13-57cf-47ff-957b-bbe9772f458a",
   "metadata": {},
   "source": [
    "- Upload the sample CSV file into HDFS"
   ]
  },
  {
   "cell_type": "code",
   "execution_count": 1,
   "id": "0e55fb31-58c6-44cf-9e06-4986526245ca",
   "metadata": {},
   "outputs": [],
   "source": [
    "!hdfs dfs -mkdir -p '/user/shamithna75gedu/banking/raw/'"
   ]
  },
  {
   "cell_type": "code",
   "execution_count": 2,
   "id": "c3a7ae47-c15c-485d-b08e-a56fff87cf86",
   "metadata": {},
   "outputs": [
    {
     "name": "stdout",
     "output_type": "stream",
     "text": [
      "copyFromLocal: `/user/shamithna75gedu/banking/raw/banking_transaction.csv': File exists\n"
     ]
    }
   ],
   "source": [
    "!hdfs dfs -copyFromLocal 'dataset/banking_transaction.csv' '/user/shamithna75gedu/banking/raw'"
   ]
  },
  {
   "cell_type": "code",
   "execution_count": 3,
   "id": "602ac8ac-004e-4c5d-be0b-0f0ac8e47b2d",
   "metadata": {},
   "outputs": [
    {
     "name": "stdout",
     "output_type": "stream",
     "text": [
      "-rw-r--r--   3 shamithna75gedu shamithna75gedu     173847 2025-06-26 06:39 /user/shamithna75gedu/banking/raw/banking_transaction.csv\n"
     ]
    }
   ],
   "source": [
    "!hdfs dfs -ls '/user/shamithna75gedu/banking/raw/banking_transaction.csv'"
   ]
  },
  {
   "cell_type": "markdown",
   "id": "7c2098c0-136c-4172-9b80-0672e8addd4a",
   "metadata": {},
   "source": [
    "- Validate schema and handle malformed or missing records"
   ]
  },
  {
   "cell_type": "code",
   "execution_count": 4,
   "id": "5884c588-1a24-4f18-bda4-2895bac8b7b7",
   "metadata": {
    "scrolled": true,
    "tags": []
   },
   "outputs": [
    {
     "name": "stdout",
     "output_type": "stream",
     "text": [
      "transaction_id,customer_id,timestamp,amount,transaction_type,channel,status\n",
      "1,1082,2025-05-30T22:50:12,200.2,withdrawal,ATM,success\n",
      "2,1095,2025-05-26T18:15:58,192.25,deposit,Branch,success\n",
      "3,1004,2025-06-07T21:33:32,184.33,deposit,Branch,success\n",
      "4,1072,2025-06-06T10:26:46,278.95,withdrawal,ATM,success\n",
      "5,1036,2025-06-05T09:11:09,828.49,deposit,ATM,success\n",
      "6,1044,2025-06-01T07:42:00,350.08,deposit,Online,success\n",
      "7,1049,2025-05-30T12:32:31,187.04,withdrawal,Branch,success\n",
      "8,1006,2025-06-21T00:31:29,756.76,deposit,Online,success\n",
      "9,1038,2025-05-29T18:25:03,846.46,withdrawal,Branch,success\n",
      "10,1009,2025-06-23T05:06:01,141.24,deposit,Online,failed\n",
      "11,1030,2025-06-15T00:42:04,879.84,withdrawal,Online,success\n",
      "12,1047,2025-05-27T02:09:22,246.39,withdrawal,ATM,success\n",
      "13,1090,2025-05-26T23:50:34,942.99,deposit,Branch,success\n",
      "14,1069,2025-05-30T02:17:22,756.21,deposit,Online,success\n",
      "15,1082,2025-06-05T03:51:30,719.35,deposit,Branch,success\n",
      "16,1099,2025-06-05T20:11:46,798.4,deposit,ATM,success\n",
      "17,1052,2025-06-19T01:54:29,3"
     ]
    }
   ],
   "source": [
    "!hdfs dfs -head '/user/shamithna75gedu/banking/raw/banking_transaction.csv'"
   ]
  },
  {
   "cell_type": "markdown",
   "id": "451299f2-ed4a-46dd-a279-b7428df54e05",
   "metadata": {},
   "source": [
    "---"
   ]
  },
  {
   "cell_type": "markdown",
   "id": "79b6597d-b037-4d58-a552-bc4844369ce6",
   "metadata": {
    "jp-MarkdownHeadingCollapsed": true,
    "tags": []
   },
   "source": [
    "## Data Transformation with PySpark"
   ]
  },
  {
   "cell_type": "code",
   "execution_count": 6,
   "id": "dc89d3da-e4d4-4199-8fbc-2941ed6e2107",
   "metadata": {},
   "outputs": [],
   "source": [
    "from pyspark.sql import SparkSession\n",
    "from pyspark.sql.functions import col, lower, when, dayofmonth, hour"
   ]
  },
  {
   "cell_type": "code",
   "execution_count": 7,
   "id": "7024cab0-603c-4e87-84be-53f1536b5018",
   "metadata": {},
   "outputs": [
    {
     "name": "stdout",
     "output_type": "stream",
     "text": [
      ":: loading settings :: url = jar:file:/opt/anaconda3/lib/python3.9/site-packages/pyspark/jars/ivy-2.4.0.jar!/org/apache/ivy/core/settings/ivysettings.xml\n"
     ]
    },
    {
     "name": "stderr",
     "output_type": "stream",
     "text": [
      "Ivy Default Cache set to: /home/shamithna75gedu/.ivy2/cache\n",
      "The jars for the packages stored in: /home/shamithna75gedu/.ivy2/jars\n",
      "org.apache.spark#spark-sql-kafka-0-10_2.12 added as a dependency\n",
      ":: resolving dependencies :: org.apache.spark#spark-submit-parent-5c6bee15-d243-4929-83b1-cb089390eb1f;1.0\n",
      "\tconfs: [default]\n",
      "\tfound org.apache.spark#spark-sql-kafka-0-10_2.12;3.1.2 in central\n",
      "\tfound org.apache.spark#spark-token-provider-kafka-0-10_2.12;3.1.2 in central\n",
      "\tfound org.apache.kafka#kafka-clients;2.6.0 in central\n",
      "\tfound com.github.luben#zstd-jni;1.4.8-1 in central\n",
      "\tfound org.lz4#lz4-java;1.7.1 in central\n",
      "\tfound org.xerial.snappy#snappy-java;1.1.8.2 in central\n",
      "\tfound org.slf4j#slf4j-api;1.7.30 in central\n",
      "\tfound org.spark-project.spark#unused;1.0.0 in central\n",
      "\tfound org.apache.commons#commons-pool2;2.6.2 in central\n",
      ":: resolution report :: resolve 817ms :: artifacts dl 30ms\n",
      "\t:: modules in use:\n",
      "\tcom.github.luben#zstd-jni;1.4.8-1 from central in [default]\n",
      "\torg.apache.commons#commons-pool2;2.6.2 from central in [default]\n",
      "\torg.apache.kafka#kafka-clients;2.6.0 from central in [default]\n",
      "\torg.apache.spark#spark-sql-kafka-0-10_2.12;3.1.2 from central in [default]\n",
      "\torg.apache.spark#spark-token-provider-kafka-0-10_2.12;3.1.2 from central in [default]\n",
      "\torg.lz4#lz4-java;1.7.1 from central in [default]\n",
      "\torg.slf4j#slf4j-api;1.7.30 from central in [default]\n",
      "\torg.spark-project.spark#unused;1.0.0 from central in [default]\n",
      "\torg.xerial.snappy#snappy-java;1.1.8.2 from central in [default]\n",
      "\t---------------------------------------------------------------------\n",
      "\t|                  |            modules            ||   artifacts   |\n",
      "\t|       conf       | number| search|dwnlded|evicted|| number|dwnlded|\n",
      "\t---------------------------------------------------------------------\n",
      "\t|      default     |   9   |   0   |   0   |   0   ||   9   |   0   |\n",
      "\t---------------------------------------------------------------------\n",
      ":: retrieving :: org.apache.spark#spark-submit-parent-5c6bee15-d243-4929-83b1-cb089390eb1f\n",
      "\tconfs: [default]\n",
      "\t0 artifacts copied, 9 already retrieved (0kB/12ms)\n",
      "25/06/26 12:47:52 WARN NativeCodeLoader: Unable to load native-hadoop library for your platform... using builtin-java classes where applicable\n",
      "Setting default log level to \"WARN\".\n",
      "To adjust logging level use sc.setLogLevel(newLevel). For SparkR, use setLogLevel(newLevel).\n",
      "25/06/26 12:47:53 WARN Utils: Service 'SparkUI' could not bind on port 4040. Attempting port 4041.\n",
      "25/06/26 12:47:53 WARN Utils: Service 'SparkUI' could not bind on port 4041. Attempting port 4042.\n",
      "25/06/26 12:47:53 WARN Utils: Service 'SparkUI' could not bind on port 4042. Attempting port 4043.\n",
      "25/06/26 12:47:53 WARN Utils: Service 'SparkUI' could not bind on port 4043. Attempting port 4044.\n",
      "25/06/26 12:47:53 WARN Utils: Service 'SparkUI' could not bind on port 4044. Attempting port 4045.\n",
      "25/06/26 12:47:53 WARN Utils: Service 'SparkUI' could not bind on port 4045. Attempting port 4046.\n",
      "25/06/26 12:47:53 WARN Utils: Service 'SparkUI' could not bind on port 4046. Attempting port 4047.\n",
      "25/06/26 12:47:53 WARN Utils: Service 'SparkUI' could not bind on port 4047. Attempting port 4048.\n"
     ]
    },
    {
     "data": {
      "text/html": [
       "\n",
       "            <div>\n",
       "                <p><b>SparkSession - hive</b></p>\n",
       "                \n",
       "        <div>\n",
       "            <p><b>SparkContext</b></p>\n",
       "\n",
       "            <p><a href=\"http://ip-172-31-16-206.ap-south-1.compute.internal:4048\">Spark UI</a></p>\n",
       "\n",
       "            <dl>\n",
       "              <dt>Version</dt>\n",
       "                <dd><code>v3.1.2</code></dd>\n",
       "              <dt>Master</dt>\n",
       "                <dd><code>local[5]</code></dd>\n",
       "              <dt>AppName</dt>\n",
       "                <dd><code>data-transformation-with-pyspark</code></dd>\n",
       "            </dl>\n",
       "        </div>\n",
       "        \n",
       "            </div>\n",
       "        "
      ],
      "text/plain": [
       "<pyspark.sql.session.SparkSession at 0x7fecf80ae880>"
      ]
     },
     "execution_count": 7,
     "metadata": {},
     "output_type": "execute_result"
    }
   ],
   "source": [
    "spark = SparkSession \\\n",
    "            .builder \\\n",
    "            .master('local[5]') \\\n",
    "            .appName('data-transformation-with-pyspark') \\\n",
    "            .enableHiveSupport() \\\n",
    "            .getOrCreate()\n",
    "\n",
    "spark"
   ]
  },
  {
   "cell_type": "markdown",
   "id": "8f79447b-49c3-426b-9700-a1f655201bdf",
   "metadata": {},
   "source": [
    "- Load the HDFS data into a PySpark DataFrame"
   ]
  },
  {
   "cell_type": "code",
   "execution_count": 8,
   "id": "af93fe19-cd4e-425a-bbc0-91c44137dd71",
   "metadata": {},
   "outputs": [
    {
     "name": "stderr",
     "output_type": "stream",
     "text": [
      "                                                                                \r"
     ]
    },
    {
     "name": "stdout",
     "output_type": "stream",
     "text": [
      "+--------------+-----------+-------------------+------+----------------+-------+-------+\n",
      "|transaction_id|customer_id|          timestamp|amount|transaction_type|channel| status|\n",
      "+--------------+-----------+-------------------+------+----------------+-------+-------+\n",
      "|             1|       1082|2025-05-30 22:50:12| 200.2|      withdrawal|    ATM|success|\n",
      "|             2|       1095|2025-05-26 18:15:58|192.25|         deposit| Branch|success|\n",
      "|             3|       1004|2025-06-07 21:33:32|184.33|         deposit| Branch|success|\n",
      "|             4|       1072|2025-06-06 10:26:46|278.95|      withdrawal|    ATM|success|\n",
      "|             5|       1036|2025-06-05 09:11:09|828.49|         deposit|    ATM|success|\n",
      "|             6|       1044|2025-06-01 07:42:00|350.08|         deposit| Online|success|\n",
      "|             7|       1049|2025-05-30 12:32:31|187.04|      withdrawal| Branch|success|\n",
      "|             8|       1006|2025-06-21 00:31:29|756.76|         deposit| Online|success|\n",
      "|             9|       1038|2025-05-29 18:25:03|846.46|      withdrawal| Branch|success|\n",
      "|            10|       1009|2025-06-23 05:06:01|141.24|         deposit| Online| failed|\n",
      "|            11|       1030|2025-06-15 00:42:04|879.84|      withdrawal| Online|success|\n",
      "|            12|       1047|2025-05-27 02:09:22|246.39|      withdrawal|    ATM|success|\n",
      "|            13|       1090|2025-05-26 23:50:34|942.99|         deposit| Branch|success|\n",
      "|            14|       1069|2025-05-30 02:17:22|756.21|         deposit| Online|success|\n",
      "|            15|       1082|2025-06-05 03:51:30|719.35|         deposit| Branch|success|\n",
      "|            16|       1099|2025-06-05 20:11:46| 798.4|         deposit|    ATM|success|\n",
      "|            17|       1052|2025-06-19 01:54:29|340.97|         deposit| Branch|success|\n",
      "|            18|       1041|2025-06-23 18:31:45|291.36|      withdrawal| Online|success|\n",
      "|            19|       1083|2025-05-26 20:02:35|512.97|      withdrawal|    ATM|success|\n",
      "|            20|       1072|2025-06-21 19:01:28|585.08|      withdrawal| Branch|success|\n",
      "+--------------+-----------+-------------------+------+----------------+-------+-------+\n",
      "only showing top 20 rows\n",
      "\n"
     ]
    }
   ],
   "source": [
    "bank_transaction_df = spark \\\n",
    "                        .read \\\n",
    "                        .csv(\n",
    "                            path='/user/shamithna75gedu/banking/raw/banking_transaction.csv',\n",
    "                            inferSchema=True,\n",
    "                            header=True)\n",
    "\n",
    "bank_transaction_df.show()"
   ]
  },
  {
   "cell_type": "code",
   "execution_count": 9,
   "id": "36104047-13a4-40c9-ac42-76ef31098aa8",
   "metadata": {},
   "outputs": [
    {
     "name": "stdout",
     "output_type": "stream",
     "text": [
      "root\n",
      " |-- transaction_id: integer (nullable = true)\n",
      " |-- customer_id: integer (nullable = true)\n",
      " |-- timestamp: timestamp (nullable = true)\n",
      " |-- amount: double (nullable = true)\n",
      " |-- transaction_type: string (nullable = true)\n",
      " |-- channel: string (nullable = true)\n",
      " |-- status: string (nullable = true)\n",
      "\n"
     ]
    }
   ],
   "source": [
    "bank_transaction_df.printSchema()"
   ]
  },
  {
   "cell_type": "code",
   "execution_count": 10,
   "id": "dfc7d2e2-2477-4ced-928e-ac6600b10a5e",
   "metadata": {},
   "outputs": [
    {
     "name": "stdout",
     "output_type": "stream",
     "text": [
      "root\n",
      " |-- transaction_id: integer (nullable = true)\n",
      " |-- customer_id: integer (nullable = true)\n",
      " |-- txn_timestamp: timestamp (nullable = true)\n",
      " |-- amount: double (nullable = true)\n",
      " |-- transaction_type: string (nullable = true)\n",
      " |-- channel: string (nullable = true)\n",
      " |-- status: string (nullable = true)\n",
      "\n"
     ]
    }
   ],
   "source": [
    "bank_transaction_df = bank_transaction_df \\\n",
    "                            .withColumnRenamed('timestamp', 'txn_timestamp')\n",
    "\n",
    "bank_transaction_df.printSchema()"
   ]
  },
  {
   "cell_type": "code",
   "execution_count": 11,
   "id": "26da2a7f-5f63-4654-ac65-993a7e269a05",
   "metadata": {},
   "outputs": [
    {
     "name": "stderr",
     "output_type": "stream",
     "text": [
      "[Stage 3:>                                                          (0 + 1) / 1]\r"
     ]
    },
    {
     "name": "stdout",
     "output_type": "stream",
     "text": [
      "+-------+-----------------+------------------+-----------------+----------------+-------+-------+\n",
      "|summary|   transaction_id|       customer_id|           amount|transaction_type|channel| status|\n",
      "+-------+-----------------+------------------+-----------------+----------------+-------+-------+\n",
      "|  count|             2900|              2900|             2900|            2900|   2900|   2900|\n",
      "|   mean|           1450.5|1051.0475862068965|552.2341793103421|            null|   null|   null|\n",
      "| stddev|837.3022154515058| 28.75166016835395|258.8857565238447|            null|   null|   null|\n",
      "|    min|                1|              1001|           100.08|         deposit|    ATM| failed|\n",
      "|    max|             2900|              1100|           999.49|      withdrawal| Online|success|\n",
      "+-------+-----------------+------------------+-----------------+----------------+-------+-------+\n",
      "\n"
     ]
    },
    {
     "name": "stderr",
     "output_type": "stream",
     "text": [
      "                                                                                \r"
     ]
    }
   ],
   "source": [
    "bank_transaction_df.describe().show()"
   ]
  },
  {
   "cell_type": "markdown",
   "id": "ea5e9704-a960-49f9-ab9c-250dbe7cbd34",
   "metadata": {},
   "source": [
    "Perform the following:\n",
    "\n",
    "- Normalize text fields (`transaction_type`, `channel`) to lowercase."
   ]
  },
  {
   "cell_type": "code",
   "execution_count": 12,
   "id": "66c83f4c-01b0-49c7-bb78-b5e45e2fd1c7",
   "metadata": {},
   "outputs": [
    {
     "name": "stdout",
     "output_type": "stream",
     "text": [
      "+--------------+-----------+-------------------+------+----------------+-------+-------+\n",
      "|transaction_id|customer_id|      txn_timestamp|amount|transaction_type|channel| status|\n",
      "+--------------+-----------+-------------------+------+----------------+-------+-------+\n",
      "|             1|       1082|2025-05-30 22:50:12| 200.2|      withdrawal|    atm|success|\n",
      "|             2|       1095|2025-05-26 18:15:58|192.25|         deposit| branch|success|\n",
      "|             3|       1004|2025-06-07 21:33:32|184.33|         deposit| branch|success|\n",
      "|             4|       1072|2025-06-06 10:26:46|278.95|      withdrawal|    atm|success|\n",
      "|             5|       1036|2025-06-05 09:11:09|828.49|         deposit|    atm|success|\n",
      "|             6|       1044|2025-06-01 07:42:00|350.08|         deposit| online|success|\n",
      "|             7|       1049|2025-05-30 12:32:31|187.04|      withdrawal| branch|success|\n",
      "|             8|       1006|2025-06-21 00:31:29|756.76|         deposit| online|success|\n",
      "|             9|       1038|2025-05-29 18:25:03|846.46|      withdrawal| branch|success|\n",
      "|            10|       1009|2025-06-23 05:06:01|141.24|         deposit| online| failed|\n",
      "|            11|       1030|2025-06-15 00:42:04|879.84|      withdrawal| online|success|\n",
      "|            12|       1047|2025-05-27 02:09:22|246.39|      withdrawal|    atm|success|\n",
      "|            13|       1090|2025-05-26 23:50:34|942.99|         deposit| branch|success|\n",
      "|            14|       1069|2025-05-30 02:17:22|756.21|         deposit| online|success|\n",
      "|            15|       1082|2025-06-05 03:51:30|719.35|         deposit| branch|success|\n",
      "|            16|       1099|2025-06-05 20:11:46| 798.4|         deposit|    atm|success|\n",
      "|            17|       1052|2025-06-19 01:54:29|340.97|         deposit| branch|success|\n",
      "|            18|       1041|2025-06-23 18:31:45|291.36|      withdrawal| online|success|\n",
      "|            19|       1083|2025-05-26 20:02:35|512.97|      withdrawal|    atm|success|\n",
      "|            20|       1072|2025-06-21 19:01:28|585.08|      withdrawal| branch|success|\n",
      "+--------------+-----------+-------------------+------+----------------+-------+-------+\n",
      "only showing top 20 rows\n",
      "\n"
     ]
    }
   ],
   "source": [
    "bank_transaction_df = bank_transaction_df \\\n",
    "                        .withColumn('transaction_type', lower(col('transaction_type'))) \\\n",
    "                        .withColumn('channel', lower(col('channel')))\n",
    "bank_transaction_df.show()"
   ]
  },
  {
   "cell_type": "markdown",
   "id": "a267d97a-b876-4746-89a1-e6a9208cb34b",
   "metadata": {},
   "source": [
    "- Filter out failed transactions"
   ]
  },
  {
   "cell_type": "code",
   "execution_count": 13,
   "id": "bf8be1a1-8b6e-4f85-b50e-e473314eaf5e",
   "metadata": {},
   "outputs": [
    {
     "name": "stdout",
     "output_type": "stream",
     "text": [
      "+--------------+-----------+-------------------+------+----------------+-------+-------+\n",
      "|transaction_id|customer_id|      txn_timestamp|amount|transaction_type|channel| status|\n",
      "+--------------+-----------+-------------------+------+----------------+-------+-------+\n",
      "|             1|       1082|2025-05-30 22:50:12| 200.2|      withdrawal|    atm|success|\n",
      "|             2|       1095|2025-05-26 18:15:58|192.25|         deposit| branch|success|\n",
      "|             3|       1004|2025-06-07 21:33:32|184.33|         deposit| branch|success|\n",
      "|             4|       1072|2025-06-06 10:26:46|278.95|      withdrawal|    atm|success|\n",
      "|             5|       1036|2025-06-05 09:11:09|828.49|         deposit|    atm|success|\n",
      "|             6|       1044|2025-06-01 07:42:00|350.08|         deposit| online|success|\n",
      "|             7|       1049|2025-05-30 12:32:31|187.04|      withdrawal| branch|success|\n",
      "|             8|       1006|2025-06-21 00:31:29|756.76|         deposit| online|success|\n",
      "|             9|       1038|2025-05-29 18:25:03|846.46|      withdrawal| branch|success|\n",
      "|            11|       1030|2025-06-15 00:42:04|879.84|      withdrawal| online|success|\n",
      "|            12|       1047|2025-05-27 02:09:22|246.39|      withdrawal|    atm|success|\n",
      "|            13|       1090|2025-05-26 23:50:34|942.99|         deposit| branch|success|\n",
      "|            14|       1069|2025-05-30 02:17:22|756.21|         deposit| online|success|\n",
      "|            15|       1082|2025-06-05 03:51:30|719.35|         deposit| branch|success|\n",
      "|            16|       1099|2025-06-05 20:11:46| 798.4|         deposit|    atm|success|\n",
      "|            17|       1052|2025-06-19 01:54:29|340.97|         deposit| branch|success|\n",
      "|            18|       1041|2025-06-23 18:31:45|291.36|      withdrawal| online|success|\n",
      "|            19|       1083|2025-05-26 20:02:35|512.97|      withdrawal|    atm|success|\n",
      "|            20|       1072|2025-06-21 19:01:28|585.08|      withdrawal| branch|success|\n",
      "|            21|       1029|2025-06-04 04:47:21|997.59|         deposit| branch|success|\n",
      "+--------------+-----------+-------------------+------+----------------+-------+-------+\n",
      "only showing top 20 rows\n",
      "\n"
     ]
    }
   ],
   "source": [
    "cleaned_bank_transaction = bank_transaction_df \\\n",
    "                            .filter(col('status') != 'failed')\n",
    "\n",
    "cleaned_bank_transaction.show()"
   ]
  },
  {
   "cell_type": "markdown",
   "id": "be2a55cc-a227-4863-bbd3-6937786730b9",
   "metadata": {},
   "source": [
    "- Add derived columns: \n",
    "    - txn_day\n",
    "    - txn_hour\n",
    "    - high_value_flag (if amount > ₹500)."
   ]
  },
  {
   "cell_type": "code",
   "execution_count": 14,
   "id": "9dd1d015-daca-4c76-94fa-1fe54c40e870",
   "metadata": {},
   "outputs": [
    {
     "name": "stdout",
     "output_type": "stream",
     "text": [
      "+--------------+-----------+-------------------+------+----------------+-------+-------+-------+--------+---------------+\n",
      "|transaction_id|customer_id|      txn_timestamp|amount|transaction_type|channel| status|txn_day|txn_hour|high_value_flag|\n",
      "+--------------+-----------+-------------------+------+----------------+-------+-------+-------+--------+---------------+\n",
      "|             1|       1082|2025-05-30 22:50:12| 200.2|      withdrawal|    atm|success|     30|      22|              0|\n",
      "|             2|       1095|2025-05-26 18:15:58|192.25|         deposit| branch|success|     26|      18|              0|\n",
      "|             3|       1004|2025-06-07 21:33:32|184.33|         deposit| branch|success|      7|      21|              0|\n",
      "|             4|       1072|2025-06-06 10:26:46|278.95|      withdrawal|    atm|success|      6|      10|              0|\n",
      "|             5|       1036|2025-06-05 09:11:09|828.49|         deposit|    atm|success|      5|       9|              1|\n",
      "|             6|       1044|2025-06-01 07:42:00|350.08|         deposit| online|success|      1|       7|              0|\n",
      "|             7|       1049|2025-05-30 12:32:31|187.04|      withdrawal| branch|success|     30|      12|              0|\n",
      "|             8|       1006|2025-06-21 00:31:29|756.76|         deposit| online|success|     21|       0|              1|\n",
      "|             9|       1038|2025-05-29 18:25:03|846.46|      withdrawal| branch|success|     29|      18|              1|\n",
      "|            11|       1030|2025-06-15 00:42:04|879.84|      withdrawal| online|success|     15|       0|              1|\n",
      "|            12|       1047|2025-05-27 02:09:22|246.39|      withdrawal|    atm|success|     27|       2|              0|\n",
      "|            13|       1090|2025-05-26 23:50:34|942.99|         deposit| branch|success|     26|      23|              1|\n",
      "|            14|       1069|2025-05-30 02:17:22|756.21|         deposit| online|success|     30|       2|              1|\n",
      "|            15|       1082|2025-06-05 03:51:30|719.35|         deposit| branch|success|      5|       3|              1|\n",
      "|            16|       1099|2025-06-05 20:11:46| 798.4|         deposit|    atm|success|      5|      20|              1|\n",
      "|            17|       1052|2025-06-19 01:54:29|340.97|         deposit| branch|success|     19|       1|              0|\n",
      "|            18|       1041|2025-06-23 18:31:45|291.36|      withdrawal| online|success|     23|      18|              0|\n",
      "|            19|       1083|2025-05-26 20:02:35|512.97|      withdrawal|    atm|success|     26|      20|              1|\n",
      "|            20|       1072|2025-06-21 19:01:28|585.08|      withdrawal| branch|success|     21|      19|              1|\n",
      "|            21|       1029|2025-06-04 04:47:21|997.59|         deposit| branch|success|      4|       4|              1|\n",
      "+--------------+-----------+-------------------+------+----------------+-------+-------+-------+--------+---------------+\n",
      "only showing top 20 rows\n",
      "\n"
     ]
    }
   ],
   "source": [
    "cleaned_bank_transaction = cleaned_bank_transaction \\\n",
    "                                .withColumn('txn_day', dayofmonth(col('txn_timestamp'))) \\\n",
    "                                .withColumn('txn_hour', hour(col('txn_timestamp'))) \\\n",
    "                                .withColumn('high_value_flag', when(col('amount') > 500, 1).otherwise(0))\n",
    "\n",
    "cleaned_bank_transaction.show()"
   ]
  },
  {
   "cell_type": "markdown",
   "id": "f632723e-cdd2-4487-a416-69b494489a56",
   "metadata": {},
   "source": [
    "---"
   ]
  },
  {
   "cell_type": "markdown",
   "id": "dc81b17c-4c2f-465d-bb25-7f6f1905a323",
   "metadata": {
    "jp-MarkdownHeadingCollapsed": true,
    "tags": []
   },
   "source": [
    "## Hive-Based Reporting (Batch Analytics)"
   ]
  },
  {
   "cell_type": "markdown",
   "id": "ed871c24-63d7-4606-b9e7-528b22b3718d",
   "metadata": {},
   "source": [
    "Create Hive external or managed tables for:\n",
    "- Raw transactions\n",
    "- Cleaned/processed data\n",
    "- Report outputs"
   ]
  },
  {
   "cell_type": "markdown",
   "id": "c0a1fa2b-87de-4647-9c17-e2627f43a5df",
   "metadata": {},
   "source": [
    "```sql\n",
    "CREATE DATABASE IF NOT EXISTS banking_shamithna75gedu\n",
    "LOCATION '/user/shamithna75gedu/banking';\n",
    "\n",
    "use banking_shamithna75gedu;\n",
    "\n",
    "CREATE EXTERNAL TABLE IF NOT EXISTS raw_transactions\n",
    "(\n",
    "  transaction_id INT,\n",
    "  customer_id INT,\n",
    "  txn_timestamp TIMESTAMP,\n",
    "  amount DOUBLE,\n",
    "  transaction_type STRING,\n",
    "  status STRING\n",
    ")\n",
    "PARTITIONED BY (channel STRING)\n",
    "STORED AS PARQUET\n",
    "LOCATION '/user/shamithna75gedu/banking/parquet/raw_transactions/';\n",
    "\n",
    "CREATE EXTERNAL TABLE IF NOT EXISTS transactions\n",
    " (\n",
    "  transaction_id INT,\n",
    "  customer_id INT,\n",
    "  txn_timestamp TIMESTAMP,\n",
    "  amount DOUBLE,\n",
    "  transaction_type STRING,\n",
    "  status STRING,\n",
    "  txn_day STRING, \n",
    "  txn_hour INT , \n",
    "  high_value_flag INT\n",
    " ) \n",
    "PARTITIONED BY (channel STRING)\n",
    "STORED AS PARQUET\n",
    "LOCATION '/user/shamithna75gedu/banking/parquet/transactions/';\n",
    "```"
   ]
  },
  {
   "cell_type": "code",
   "execution_count": 15,
   "id": "8d916308-c299-40c8-b3d3-d8821393b6a9",
   "metadata": {},
   "outputs": [
    {
     "name": "stderr",
     "output_type": "stream",
     "text": [
      "25/06/26 12:48:10 WARN SessionState: METASTORE_FILTER_HOOK will be ignored, since hive.security.authorization.manager is set to instance of HiveAuthorizerFactory.\n"
     ]
    }
   ],
   "source": [
    "bank_transaction_df \\\n",
    "        .write \\\n",
    "        .mode('overwrite') \\\n",
    "        .format('parquet') \\\n",
    "        .partitionBy('channel') \\\n",
    "        .option('path', '/user/shamithna75gedu/banking/parquet/raw_transactions/') \\\n",
    "        .saveAsTable('banking_shamithna75gedu.raw_transactions')"
   ]
  },
  {
   "cell_type": "code",
   "execution_count": 16,
   "id": "2d26a8fd-d13e-4e36-948e-24460da501eb",
   "metadata": {},
   "outputs": [
    {
     "name": "stderr",
     "output_type": "stream",
     "text": [
      "                                                                                \r"
     ]
    }
   ],
   "source": [
    "cleaned_bank_transaction \\\n",
    "    .write \\\n",
    "    .mode('overwrite') \\\n",
    "    .format('parquet') \\\n",
    "    .partitionBy('channel') \\\n",
    "    .option('path', '/user/shamithna75gedu/banking/parquet/transactions/') \\\n",
    "    .saveAsTable('banking_shamithna75gedu.transactions')"
   ]
  },
  {
   "cell_type": "code",
   "execution_count": 17,
   "id": "14d426e4-dbbb-4209-b1cd-5efbd0551c6c",
   "metadata": {},
   "outputs": [],
   "source": [
    "spark.stop()"
   ]
  },
  {
   "cell_type": "markdown",
   "id": "bfadac57-fd11-407b-9236-e7829efc0e3f",
   "metadata": {},
   "source": [
    "```sql\n",
    "SHOW PARTITIONS raw_transactions;\n",
    "SHOW PARTITIONS transactions;\n",
    "\n",
    "SELECT * FROM raw_transactions LIMIT 10;\n",
    "SELECT * FROM transactions LIMIT 10;\n",
    "```"
   ]
  },
  {
   "cell_type": "markdown",
   "id": "7f53461c-df57-4d37-a078-22ac314d7dcc",
   "metadata": {},
   "source": [
    "---"
   ]
  },
  {
   "cell_type": "markdown",
   "id": "15688077-81c3-43b9-a321-51669ab9aaf8",
   "metadata": {
    "tags": []
   },
   "source": [
    "## Analytical Queries"
   ]
  },
  {
   "cell_type": "code",
   "execution_count": 18,
   "id": "56d5caea-aca1-4bf0-9648-e5ff910cc141",
   "metadata": {},
   "outputs": [],
   "source": [
    "from pyspark.sql import SparkSession\n",
    "from pyspark.sql.functions import col, count, sum, month, dayofmonth, round, avg, window, collect_set, size"
   ]
  },
  {
   "cell_type": "code",
   "execution_count": 19,
   "id": "b309f042-b6d1-423a-bf1e-6822140220b1",
   "metadata": {},
   "outputs": [
    {
     "name": "stderr",
     "output_type": "stream",
     "text": [
      "25/06/26 12:48:11 WARN Utils: Service 'SparkUI' could not bind on port 4040. Attempting port 4041.\n",
      "25/06/26 12:48:11 WARN Utils: Service 'SparkUI' could not bind on port 4041. Attempting port 4042.\n",
      "25/06/26 12:48:11 WARN Utils: Service 'SparkUI' could not bind on port 4042. Attempting port 4043.\n",
      "25/06/26 12:48:11 WARN Utils: Service 'SparkUI' could not bind on port 4043. Attempting port 4044.\n",
      "25/06/26 12:48:11 WARN Utils: Service 'SparkUI' could not bind on port 4044. Attempting port 4045.\n",
      "25/06/26 12:48:11 WARN Utils: Service 'SparkUI' could not bind on port 4045. Attempting port 4046.\n",
      "25/06/26 12:48:11 WARN Utils: Service 'SparkUI' could not bind on port 4046. Attempting port 4047.\n",
      "25/06/26 12:48:11 WARN Utils: Service 'SparkUI' could not bind on port 4047. Attempting port 4048.\n"
     ]
    },
    {
     "data": {
      "text/html": [
       "\n",
       "            <div>\n",
       "                <p><b>SparkSession - hive</b></p>\n",
       "                \n",
       "        <div>\n",
       "            <p><b>SparkContext</b></p>\n",
       "\n",
       "            <p><a href=\"http://ip-172-31-16-206.ap-south-1.compute.internal:4048\">Spark UI</a></p>\n",
       "\n",
       "            <dl>\n",
       "              <dt>Version</dt>\n",
       "                <dd><code>v3.1.2</code></dd>\n",
       "              <dt>Master</dt>\n",
       "                <dd><code>local[5]</code></dd>\n",
       "              <dt>AppName</dt>\n",
       "                <dd><code>analytical-queries</code></dd>\n",
       "            </dl>\n",
       "        </div>\n",
       "        \n",
       "            </div>\n",
       "        "
      ],
      "text/plain": [
       "<pyspark.sql.session.SparkSession at 0x7fecf80d4d60>"
      ]
     },
     "execution_count": 19,
     "metadata": {},
     "output_type": "execute_result"
    }
   ],
   "source": [
    "spark = SparkSession \\\n",
    "            .builder \\\n",
    "            .master('local[5]') \\\n",
    "            .appName('analytical-queries') \\\n",
    "            .enableHiveSupport() \\\n",
    "            .getOrCreate()\n",
    "\n",
    "spark"
   ]
  },
  {
   "cell_type": "code",
   "execution_count": 20,
   "id": "46cbb729-31f4-4e94-838e-20d4e9160b11",
   "metadata": {},
   "outputs": [
    {
     "name": "stderr",
     "output_type": "stream",
     "text": [
      "25/06/26 12:48:13 WARN SessionState: METASTORE_FILTER_HOOK will be ignored, since hive.security.authorization.manager is set to instance of HiveAuthorizerFactory.\n"
     ]
    },
    {
     "name": "stdout",
     "output_type": "stream",
     "text": [
      "+--------------+-----------+-------------------+------+----------------+-------+-------+\n",
      "|transaction_id|customer_id|      txn_timestamp|amount|transaction_type| status|channel|\n",
      "+--------------+-----------+-------------------+------+----------------+-------+-------+\n",
      "|             1|       1082|2025-05-30 22:50:12| 200.2|      withdrawal|success|    atm|\n",
      "|             4|       1072|2025-06-06 10:26:46|278.95|      withdrawal|success|    atm|\n",
      "|             5|       1036|2025-06-05 09:11:09|828.49|         deposit|success|    atm|\n",
      "|            12|       1047|2025-05-27 02:09:22|246.39|      withdrawal|success|    atm|\n",
      "|            16|       1099|2025-06-05 20:11:46| 798.4|         deposit|success|    atm|\n",
      "|            19|       1083|2025-05-26 20:02:35|512.97|      withdrawal|success|    atm|\n",
      "|            22|       1097|2025-06-21 00:01:46| 142.4|         deposit|success|    atm|\n",
      "|            26|       1038|2025-06-23 03:40:15|491.29|      withdrawal| failed|    atm|\n",
      "|            28|       1081|2025-05-25 20:41:53| 368.6|         deposit|success|    atm|\n",
      "|            31|       1031|2025-06-11 01:32:50|890.21|         deposit|success|    atm|\n",
      "|            32|       1009|2025-06-08 00:52:12|980.19|         deposit|success|    atm|\n",
      "|            33|       1071|2025-06-02 02:16:24|248.61|      withdrawal| failed|    atm|\n",
      "|            36|       1032|2025-05-30 12:12:36|302.23|      withdrawal|success|    atm|\n",
      "|            37|       1030|2025-05-30 01:11:00| 629.6|         deposit|success|    atm|\n",
      "|            39|       1031|2025-05-30 05:48:33|350.63|      withdrawal|success|    atm|\n",
      "|            40|       1093|2025-06-11 23:22:04|941.96|      withdrawal|success|    atm|\n",
      "|            45|       1055|2025-06-16 20:23:43|265.14|      withdrawal|success|    atm|\n",
      "|            46|       1010|2025-06-20 13:52:39|498.82|         deposit|success|    atm|\n",
      "|            47|       1070|2025-05-31 14:33:34|852.42|         deposit|success|    atm|\n",
      "|            48|       1063|2025-06-12 22:09:04|533.22|      withdrawal|success|    atm|\n",
      "+--------------+-----------+-------------------+------+----------------+-------+-------+\n",
      "only showing top 20 rows\n",
      "\n"
     ]
    }
   ],
   "source": [
    "raw_bank_transaction_df = spark \\\n",
    "                        .read \\\n",
    "                        .table('banking_shamithna75gedu.raw_transactions')\n",
    "\n",
    "raw_bank_transaction_df.show()"
   ]
  },
  {
   "cell_type": "code",
   "execution_count": 21,
   "id": "6e52314a-326d-4958-85bc-aaa1a3226720",
   "metadata": {},
   "outputs": [
    {
     "name": "stdout",
     "output_type": "stream",
     "text": [
      "root\n",
      " |-- transaction_id: integer (nullable = true)\n",
      " |-- customer_id: integer (nullable = true)\n",
      " |-- txn_timestamp: timestamp (nullable = true)\n",
      " |-- amount: double (nullable = true)\n",
      " |-- transaction_type: string (nullable = true)\n",
      " |-- status: string (nullable = true)\n",
      " |-- channel: string (nullable = true)\n",
      "\n"
     ]
    }
   ],
   "source": [
    "raw_bank_transaction_df.printSchema()"
   ]
  },
  {
   "cell_type": "code",
   "execution_count": 22,
   "id": "1ecdfe01-02db-4243-a805-923dfbd50b2a",
   "metadata": {},
   "outputs": [
    {
     "name": "stdout",
     "output_type": "stream",
     "text": [
      "+--------------+-----------+-------------------+------+----------------+-------+-------+--------+---------------+-------+\n",
      "|transaction_id|customer_id|      txn_timestamp|amount|transaction_type| status|txn_day|txn_hour|high_value_flag|channel|\n",
      "+--------------+-----------+-------------------+------+----------------+-------+-------+--------+---------------+-------+\n",
      "|             1|       1082|2025-05-30 22:50:12| 200.2|      withdrawal|success|     30|      22|              0|    atm|\n",
      "|             4|       1072|2025-06-06 10:26:46|278.95|      withdrawal|success|      6|      10|              0|    atm|\n",
      "|             5|       1036|2025-06-05 09:11:09|828.49|         deposit|success|      5|       9|              1|    atm|\n",
      "|            12|       1047|2025-05-27 02:09:22|246.39|      withdrawal|success|     27|       2|              0|    atm|\n",
      "|            16|       1099|2025-06-05 20:11:46| 798.4|         deposit|success|      5|      20|              1|    atm|\n",
      "|            19|       1083|2025-05-26 20:02:35|512.97|      withdrawal|success|     26|      20|              1|    atm|\n",
      "|            22|       1097|2025-06-21 00:01:46| 142.4|         deposit|success|     21|       0|              0|    atm|\n",
      "|            28|       1081|2025-05-25 20:41:53| 368.6|         deposit|success|     25|      20|              0|    atm|\n",
      "|            31|       1031|2025-06-11 01:32:50|890.21|         deposit|success|     11|       1|              1|    atm|\n",
      "|            32|       1009|2025-06-08 00:52:12|980.19|         deposit|success|      8|       0|              1|    atm|\n",
      "|            36|       1032|2025-05-30 12:12:36|302.23|      withdrawal|success|     30|      12|              0|    atm|\n",
      "|            37|       1030|2025-05-30 01:11:00| 629.6|         deposit|success|     30|       1|              1|    atm|\n",
      "|            39|       1031|2025-05-30 05:48:33|350.63|      withdrawal|success|     30|       5|              0|    atm|\n",
      "|            40|       1093|2025-06-11 23:22:04|941.96|      withdrawal|success|     11|      23|              1|    atm|\n",
      "|            45|       1055|2025-06-16 20:23:43|265.14|      withdrawal|success|     16|      20|              0|    atm|\n",
      "|            46|       1010|2025-06-20 13:52:39|498.82|         deposit|success|     20|      13|              0|    atm|\n",
      "|            47|       1070|2025-05-31 14:33:34|852.42|         deposit|success|     31|      14|              1|    atm|\n",
      "|            48|       1063|2025-06-12 22:09:04|533.22|      withdrawal|success|     12|      22|              1|    atm|\n",
      "|            50|       1090|2025-06-21 08:18:02|961.59|      withdrawal|success|     21|       8|              1|    atm|\n",
      "|            57|       1083|2025-06-05 14:38:50| 370.0|      withdrawal|success|      5|      14|              0|    atm|\n",
      "+--------------+-----------+-------------------+------+----------------+-------+-------+--------+---------------+-------+\n",
      "only showing top 20 rows\n",
      "\n"
     ]
    }
   ],
   "source": [
    "bank_transaction_df = spark \\\n",
    "                        .read \\\n",
    "                        .table('banking_shamithna75gedu.transactions')\n",
    "\n",
    "bank_transaction_df.show()"
   ]
  },
  {
   "cell_type": "code",
   "execution_count": 23,
   "id": "5cfc5348-91f5-4b65-83a7-6f4702ccc194",
   "metadata": {},
   "outputs": [
    {
     "name": "stdout",
     "output_type": "stream",
     "text": [
      "root\n",
      " |-- transaction_id: integer (nullable = true)\n",
      " |-- customer_id: integer (nullable = true)\n",
      " |-- txn_timestamp: timestamp (nullable = true)\n",
      " |-- amount: double (nullable = true)\n",
      " |-- transaction_type: string (nullable = true)\n",
      " |-- status: string (nullable = true)\n",
      " |-- txn_day: integer (nullable = true)\n",
      " |-- txn_hour: integer (nullable = true)\n",
      " |-- high_value_flag: integer (nullable = true)\n",
      " |-- channel: string (nullable = true)\n",
      "\n"
     ]
    }
   ],
   "source": [
    "bank_transaction_df.printSchema()"
   ]
  },
  {
   "cell_type": "markdown",
   "id": "a868d39a-fa35-498f-9986-97ebb327e6d2",
   "metadata": {},
   "source": [
    "> Store all final results in Hive tables and share sample query outputs"
   ]
  },
  {
   "cell_type": "markdown",
   "id": "a43d94a5-143f-42ce-b59e-df7378a92be7",
   "metadata": {
    "jp-MarkdownHeadingCollapsed": true,
    "tags": []
   },
   "source": [
    "### Customer Behavior Insights"
   ]
  },
  {
   "cell_type": "markdown",
   "id": "781bb9a4-4e9d-4ee5-9010-da8d4389949a",
   "metadata": {},
   "source": [
    "- Top 5 customers by number of transactions"
   ]
  },
  {
   "cell_type": "code",
   "execution_count": 24,
   "id": "3a3699c7-205b-463f-815f-45c52cacc1f1",
   "metadata": {},
   "outputs": [
    {
     "name": "stderr",
     "output_type": "stream",
     "text": [
      "                                                                                \r"
     ]
    },
    {
     "name": "stdout",
     "output_type": "stream",
     "text": [
      "+-----------+------------------+\n",
      "|customer_id|no_of_transactions|\n",
      "+-----------+------------------+\n",
      "|       1032|                42|\n",
      "|       1041|                38|\n",
      "|       1014|                38|\n",
      "|       1084|                37|\n",
      "|       1052|                37|\n",
      "+-----------+------------------+\n",
      "\n"
     ]
    }
   ],
   "source": [
    "top_five_customers = bank_transaction_df \\\n",
    "                        .groupBy(col('customer_id')) \\\n",
    "                        .agg(count(col('transaction_id')).alias('no_of_transactions')) \\\n",
    "                        .orderBy(col('no_of_transactions').desc()) \\\n",
    "                        .limit(5)\n",
    "\n",
    "top_five_customers \\\n",
    "        .write \\\n",
    "        .mode('overwrite') \\\n",
    "        .format('parquet') \\\n",
    "        .option('path', '/user/shamithna75gedu/banking/parquet/top_five_customers/') \\\n",
    "        .saveAsTable('banking_shamithna75gedu.top_five_customers')\n",
    "\n",
    "top_five_customers.show()"
   ]
  },
  {
   "cell_type": "markdown",
   "id": "dafcb179-a0de-4cdf-b159-83f39e86b565",
   "metadata": {},
   "source": [
    "- Customer with the highest total withdrawal amount"
   ]
  },
  {
   "cell_type": "code",
   "execution_count": 25,
   "id": "0f3b6778-2ac3-48bf-8ecd-0df4cbdb6936",
   "metadata": {},
   "outputs": [
    {
     "name": "stderr",
     "output_type": "stream",
     "text": [
      "                                                                                \r"
     ]
    },
    {
     "name": "stdout",
     "output_type": "stream",
     "text": [
      "+-----------+-----------------------+\n",
      "|customer_id|total_withdrawal_amount|\n",
      "+-----------+-----------------------+\n",
      "|       1032|               13811.57|\n",
      "+-----------+-----------------------+\n",
      "\n"
     ]
    }
   ],
   "source": [
    "customer_with_highest_total_withdrawal = bank_transaction_df \\\n",
    "                                                .where(col('transaction_type') == 'withdrawal') \\\n",
    "                                                .groupBy(col('customer_id')) \\\n",
    "                                                .agg(sum(col('amount')).alias('total_withdrawal_amount')) \\\n",
    "                                                .orderBy(col('total_withdrawal_amount').desc()) \\\n",
    "                                                .limit(1)\n",
    "customer_with_highest_total_withdrawal \\\n",
    "            .write \\\n",
    "            .mode('overwrite') \\\n",
    "            .format('parquet') \\\n",
    "            .option('path', '/user/shamithna75gedu/banking/parquet/customer_with_highest_total_withdrawal/') \\\n",
    "            .saveAsTable('banking_shamithna75gedu.customer_with_highest_total_withdrawal')\n",
    "\n",
    "customer_with_highest_total_withdrawal.show()"
   ]
  },
  {
   "cell_type": "markdown",
   "id": "80974d89-3a07-467b-9827-6561ff6d0bc3",
   "metadata": {},
   "source": [
    "- Monthly transaction volume per customer"
   ]
  },
  {
   "cell_type": "code",
   "execution_count": 26,
   "id": "ce049583-08d1-46ef-92c3-9aa902f12f64",
   "metadata": {},
   "outputs": [
    {
     "name": "stderr",
     "output_type": "stream",
     "text": [
      "                                                                                \r"
     ]
    },
    {
     "name": "stdout",
     "output_type": "stream",
     "text": [
      "+-----------+---------+------------------------+-----------------------+\n",
      "|customer_id|txn_month|total_no_of_transactions|total_amount_transfered|\n",
      "+-----------+---------+------------------------+-----------------------+\n",
      "|       1070|        5|                       5|                3100.01|\n",
      "|       1089|        6|                      22|                13063.4|\n",
      "|       1031|        5|                       5|                3417.88|\n",
      "|       1090|        5|                       6|                3605.19|\n",
      "|       1016|        5|                       3|                2567.28|\n",
      "|       1024|        5|                       6|                3010.31|\n",
      "|       1064|        5|                       4|                1641.61|\n",
      "|       1031|        6|                      21|               11986.97|\n",
      "|       1062|        5|                       7|                5204.74|\n",
      "|       1013|        6|                      22|               13408.37|\n",
      "|       1061|        5|                       4|                2093.84|\n",
      "|       1073|        6|                      23|               13905.15|\n",
      "|       1009|        5|                       6|                3539.82|\n",
      "|       1041|        6|                      28|               16591.51|\n",
      "|       1005|        6|                      18|               10172.52|\n",
      "|       1018|        6|                      33|               18746.85|\n",
      "|       1042|        5|                       4|                 2416.4|\n",
      "|       1034|        6|                      17|                9138.27|\n",
      "|       1030|        6|                      14|                 8014.9|\n",
      "|       1002|        5|                       5|                2816.26|\n",
      "+-----------+---------+------------------------+-----------------------+\n",
      "only showing top 20 rows\n",
      "\n"
     ]
    }
   ],
   "source": [
    "monthly_txns_volume = bank_transaction_df \\\n",
    "                        .withColumn('txn_month', month(col('txn_timestamp'))) \\\n",
    "                        .groupBy(col('customer_id'), col('txn_month')) \\\n",
    "                        .agg(\n",
    "                            count(col('transaction_id')).alias('total_no_of_transactions'), \n",
    "                            round(sum(col('amount')), 2).alias('total_amount_transfered'))\n",
    "\n",
    "monthly_txns_volume \\\n",
    "            .write \\\n",
    "            .mode('overwrite') \\\n",
    "            .format('parquet') \\\n",
    "            .option('path', '/user/shamithna75gedu/banking/parquet/monthly_txns_volume/') \\\n",
    "            .saveAsTable('banking_shamithna75gedu.monthly_txns_volume')\n",
    "\n",
    "monthly_txns_volume.show()"
   ]
  },
  {
   "cell_type": "markdown",
   "id": "8ca408dc-221c-4cb6-8dd0-97f1aa7faf6f",
   "metadata": {
    "jp-MarkdownHeadingCollapsed": true,
    "tags": []
   },
   "source": [
    "### Channel & Platform Analytics"
   ]
  },
  {
   "cell_type": "markdown",
   "id": "6dd41c56-775b-42dd-806a-e09f2997a26e",
   "metadata": {},
   "source": [
    "- Average transaction amount by `channel`"
   ]
  },
  {
   "cell_type": "code",
   "execution_count": 27,
   "id": "e972fcf1-5184-468e-b007-927aa2787894",
   "metadata": {},
   "outputs": [
    {
     "name": "stderr",
     "output_type": "stream",
     "text": [
      "                                                                                \r"
     ]
    },
    {
     "name": "stdout",
     "output_type": "stream",
     "text": [
      "+-------+----------+\n",
      "|channel|avg_amount|\n",
      "+-------+----------+\n",
      "| online|    550.99|\n",
      "|    atm|    543.22|\n",
      "| branch|    563.81|\n",
      "+-------+----------+\n",
      "\n"
     ]
    }
   ],
   "source": [
    "avg_txn_amt_by_channel = bank_transaction_df \\\n",
    "                            .groupBy(col('channel')) \\\n",
    "                            .agg(round(avg(col('amount')), 2).alias('avg_amount'))\n",
    "\n",
    "avg_txn_amt_by_channel \\\n",
    "            .write \\\n",
    "            .mode('overwrite') \\\n",
    "            .format('parquet') \\\n",
    "            .option('path', '/user/shamithna75gedu/banking/parquet/avg_txn_amt_by_channel/') \\\n",
    "            .saveAsTable('banking_shamithna75gedu.avg_txn_amt_by_channel')\n",
    "\n",
    "avg_txn_amt_by_channel.show()"
   ]
  },
  {
   "cell_type": "markdown",
   "id": "d2ecd75a-85ff-4956-b983-8a95b56af782",
   "metadata": {},
   "source": [
    "- Success rate of transactions by `channel`"
   ]
  },
  {
   "cell_type": "code",
   "execution_count": 28,
   "id": "b07dd9ef-5cd6-4faa-b51a-7eee3ca8f562",
   "metadata": {},
   "outputs": [
    {
     "name": "stderr",
     "output_type": "stream",
     "text": [
      "                                                                                \r"
     ]
    },
    {
     "name": "stdout",
     "output_type": "stream",
     "text": [
      "+-------+------------+\n",
      "|channel|success_rate|\n",
      "+-------+------------+\n",
      "| online|       90.35|\n",
      "|    atm|       90.66|\n",
      "| branch|       90.43|\n",
      "+-------+------------+\n",
      "\n"
     ]
    }
   ],
   "source": [
    "success_rate_by_channel = raw_bank_transaction_df \\\n",
    "                            .withColumn('success_flag', when(col('status') == 'success', 1).otherwise(0)) \\\n",
    "                            .groupBy(col('channel')) \\\n",
    "                            .agg(round(sum(col('success_flag')) * 100 / count(col('transaction_id')), 2).alias('success_rate'))\n",
    "\n",
    "success_rate_by_channel \\\n",
    "            .write \\\n",
    "            .mode('overwrite') \\\n",
    "            .format('parquet') \\\n",
    "            .option('path', '/user/shamithna75gedu/banking/parquet/success_rate_by_channel/') \\\n",
    "            .saveAsTable('banking_shamithna75gedu.success_rate_by_channel')\n",
    "\n",
    "success_rate_by_channel.show()"
   ]
  },
  {
   "cell_type": "markdown",
   "id": "ee69fb8e-b7da-4c1c-80bd-b551d8b06e5c",
   "metadata": {
    "jp-MarkdownHeadingCollapsed": true,
    "tags": []
   },
   "source": [
    "### Time-Based Analytics"
   ]
  },
  {
   "cell_type": "markdown",
   "id": "d93ab2c4-cdda-46b3-88ad-57b52c07ba61",
   "metadata": {},
   "source": [
    "- Hourly transaction trend (peak hours)"
   ]
  },
  {
   "cell_type": "code",
   "execution_count": 29,
   "id": "39153d45-e1be-4a59-8b50-5f3e93e697bd",
   "metadata": {},
   "outputs": [
    {
     "name": "stderr",
     "output_type": "stream",
     "text": [
      "[Stage 50:=============================================>        (167 + 5) / 200]\r"
     ]
    },
    {
     "name": "stdout",
     "output_type": "stream",
     "text": [
      "+--------+-----------------+-----------------------+\n",
      "|txn_hour|no_of_transaction|total_amount_transfered|\n",
      "+--------+-----------------+-----------------------+\n",
      "|      23|              116|               64075.05|\n",
      "|      22|              119|               65337.85|\n",
      "|      21|              105|               60847.12|\n",
      "|      20|              101|               56580.27|\n",
      "|      19|              123|               63337.75|\n",
      "|      18|              102|               56143.26|\n",
      "|      17|              109|               61653.74|\n",
      "|      16|               97|               53444.58|\n",
      "|      15|               98|               52827.33|\n",
      "|      14|              101|               56519.29|\n",
      "+--------+-----------------+-----------------------+\n",
      "\n"
     ]
    },
    {
     "name": "stderr",
     "output_type": "stream",
     "text": [
      "                                                                                \r"
     ]
    }
   ],
   "source": [
    "hourly_txn_trend = bank_transaction_df \\\n",
    "                        .groupBy(col('txn_hour')) \\\n",
    "                        .agg(\n",
    "                            count(col('transaction_id')).alias('no_of_transaction'),\n",
    "                            round(sum(col('amount')), 2).alias('total_amount_transfered')) \\\n",
    "                        .orderBy(col('txn_hour').desc()) \\\n",
    "                        .limit(10)\n",
    "\n",
    "hourly_txn_trend \\\n",
    "        .write \\\n",
    "        .mode('overwrite') \\\n",
    "        .format('parquet') \\\n",
    "        .option('path', '/user/shamithna75gedu/banking/parquet/hourly_txn_trend/') \\\n",
    "        .saveAsTable('banking_shamithna75gedu.hourly_txn_trend')\n",
    "\n",
    "hourly_txn_trend.show()"
   ]
  },
  {
   "cell_type": "markdown",
   "id": "0e81af0c-6134-443e-9b35-d79e0fd9310b",
   "metadata": {},
   "source": [
    "- Day-wise total transaction volume and amount"
   ]
  },
  {
   "cell_type": "code",
   "execution_count": 30,
   "id": "d5961c06-11e4-4238-a542-56ed5af62011",
   "metadata": {},
   "outputs": [
    {
     "name": "stderr",
     "output_type": "stream",
     "text": [
      "[Stage 58:===============================================>      (177 + 5) / 200]\r"
     ]
    },
    {
     "name": "stdout",
     "output_type": "stream",
     "text": [
      "+-------+-----------------+-----------------------+\n",
      "|txn_day|no_of_transaction|total_amount_transfered|\n",
      "+-------+-----------------+-----------------------+\n",
      "|      1|               88|               48719.05|\n",
      "|      2|               75|               39444.05|\n",
      "|      3|               78|               43144.49|\n",
      "|      4|               69|               35842.83|\n",
      "|      5|               87|               47592.81|\n",
      "|      6|              102|               59603.52|\n",
      "|      7|               87|               45472.08|\n",
      "|      8|               94|               53767.77|\n",
      "|      9|               97|               49049.63|\n",
      "|     10|               92|               47463.42|\n",
      "|     11|               78|               44055.86|\n",
      "|     12|               99|               56518.86|\n",
      "|     13|               83|               50373.61|\n",
      "|     14|               94|               54303.43|\n",
      "|     15|               88|               51513.83|\n",
      "|     16|              101|               55754.42|\n",
      "|     17|               90|               47554.04|\n",
      "|     18|               78|               44862.31|\n",
      "|     19|               75|               42361.97|\n",
      "|     20|               91|               45290.14|\n",
      "+-------+-----------------+-----------------------+\n",
      "only showing top 20 rows\n",
      "\n"
     ]
    },
    {
     "name": "stderr",
     "output_type": "stream",
     "text": [
      "                                                                                \r"
     ]
    }
   ],
   "source": [
    "day_wise_txn_volume = bank_transaction_df \\\n",
    "                            .groupBy(col('txn_day')) \\\n",
    "                            .agg(\n",
    "                                count(col('transaction_id')).alias('no_of_transaction'),\n",
    "                                round(sum(col('amount')), 2).alias('total_amount_transfered')) \\\n",
    "                            .orderBy(col('txn_day'))\n",
    "\n",
    "day_wise_txn_volume \\\n",
    "        .write \\\n",
    "        .mode('overwrite') \\\n",
    "        .format('parquet') \\\n",
    "        .option('path', '/user/shamithna75gedu/banking/parquet/day_wise_txn_volume/') \\\n",
    "        .saveAsTable('banking_shamithna75gedu.day_wise_txn_volume')\n",
    "\n",
    "day_wise_txn_volume.show()"
   ]
  },
  {
   "cell_type": "markdown",
   "id": "c6d4e01a-228c-4631-937c-1f8f5c4953a1",
   "metadata": {
    "jp-MarkdownHeadingCollapsed": true,
    "tags": []
   },
   "source": [
    "### Fraud Pattern Indicators"
   ]
  },
  {
   "cell_type": "markdown",
   "id": "28d268a0-69f8-4fc5-acc3-f796e26dcb8f",
   "metadata": {},
   "source": [
    "- Number of high-value transactions (> ₹500) per customer per day"
   ]
  },
  {
   "cell_type": "code",
   "execution_count": 31,
   "id": "3adac10e-2db6-479b-958b-988b84a29ba7",
   "metadata": {},
   "outputs": [
    {
     "name": "stderr",
     "output_type": "stream",
     "text": [
      "                                                                                \r"
     ]
    },
    {
     "name": "stdout",
     "output_type": "stream",
     "text": [
      "+-----------+-------+-----------------+\n",
      "|customer_id|txn_day|no_of_transaction|\n",
      "+-----------+-------+-----------------+\n",
      "|       1063|      2|                1|\n",
      "|       1062|     27|                2|\n",
      "|       1070|      5|                1|\n",
      "|       1037|     22|                1|\n",
      "|       1088|     31|                1|\n",
      "|       1048|     12|                1|\n",
      "|       1049|     18|                1|\n",
      "|       1064|      2|                1|\n",
      "|       1027|      8|                1|\n",
      "|       1065|      2|                1|\n",
      "|       1033|      1|                1|\n",
      "|       1019|     27|                1|\n",
      "|       1038|      3|                1|\n",
      "|       1039|      4|                1|\n",
      "|       1099|      3|                1|\n",
      "|       1060|     27|                1|\n",
      "|       1072|     14|                1|\n",
      "|       1090|     19|                2|\n",
      "|       1041|     21|                1|\n",
      "|       1085|     25|                1|\n",
      "+-----------+-------+-----------------+\n",
      "only showing top 20 rows\n",
      "\n"
     ]
    }
   ],
   "source": [
    "high_value_txn_per_day = bank_transaction_df \\\n",
    "                            .where(col('amount') > 500) \\\n",
    "                            .groupBy(col('customer_id'), col('txn_day')) \\\n",
    "                            .agg(count(col('transaction_id')).alias('no_of_transaction'))\n",
    "\n",
    "high_value_txn_per_day \\\n",
    "        .write \\\n",
    "        .mode('overwrite') \\\n",
    "        .format('parquet') \\\n",
    "        .option('path', '/user/shamithna75gedu/banking/parquet/high_value_txn_per_day/') \\\n",
    "        .saveAsTable('banking_shamithna75gedu.high_value_txn_per_day')\n",
    "\n",
    "\n",
    "high_value_txn_per_day.show()"
   ]
  },
  {
   "cell_type": "markdown",
   "id": "15a21b79-824f-4f08-a8a4-7fca233e8c0d",
   "metadata": {},
   "source": [
    "- Customers with more than 3 failed transactions in a day"
   ]
  },
  {
   "cell_type": "code",
   "execution_count": 32,
   "id": "3ac42456-f281-49fa-a278-8ea4710abd9f",
   "metadata": {},
   "outputs": [
    {
     "name": "stderr",
     "output_type": "stream",
     "text": [
      "                                                                                \r"
     ]
    },
    {
     "name": "stdout",
     "output_type": "stream",
     "text": [
      "+-----------+\n",
      "|customer_id|\n",
      "+-----------+\n",
      "+-----------+\n",
      "\n"
     ]
    }
   ],
   "source": [
    "customers_with_more_failed_txn = raw_bank_transaction_df \\\n",
    "                                    .where(col('status') == 'failed') \\\n",
    "                                    .withColumn('txn_day', dayofmonth(col('txn_timestamp'))) \\\n",
    "                                    .groupBy(col('customer_id'), col('txn_day')) \\\n",
    "                                    .agg(count(col('transaction_id')).alias('no_of_failed_txn')) \\\n",
    "                                    .where(col('no_of_failed_txn') > 3) \\\n",
    "                                    .select(col('customer_id'))\n",
    "\n",
    "customers_with_more_failed_txn \\\n",
    "        .write \\\n",
    "        .mode('overwrite') \\\n",
    "        .format('parquet') \\\n",
    "        .option('path', '/user/shamithna75gedu/banking/parquet/customers_with_more_failed_txn/') \\\n",
    "        .saveAsTable('banking_shamithna75gedu.customers_with_more_failed_txn')\n",
    "\n",
    "customers_with_more_failed_txn.show()"
   ]
  },
  {
   "cell_type": "markdown",
   "id": "79e9126f-6c5f-4982-8214-d76625f2bfcc",
   "metadata": {},
   "source": [
    "- Customers who used all three channels (ATM, Online, Branch) in the last 7 days"
   ]
  },
  {
   "cell_type": "code",
   "execution_count": 33,
   "id": "175010d3-a209-4869-b8a2-7b66c371cca5",
   "metadata": {},
   "outputs": [
    {
     "name": "stderr",
     "output_type": "stream",
     "text": [
      "                                                                                \r"
     ]
    },
    {
     "name": "stdout",
     "output_type": "stream",
     "text": [
      "+-----------+\n",
      "|customer_id|\n",
      "+-----------+\n",
      "|       1063|\n",
      "|       1072|\n",
      "|       1083|\n",
      "|       1066|\n",
      "|       1082|\n",
      "|       1014|\n",
      "|       1087|\n",
      "|       1092|\n",
      "|       1087|\n",
      "|       1029|\n",
      "|       1013|\n",
      "|       1045|\n",
      "|       1052|\n",
      "|       1093|\n",
      "|       1010|\n",
      "|       1038|\n",
      "|       1019|\n",
      "|       1071|\n",
      "|       1084|\n",
      "|       1097|\n",
      "+-----------+\n",
      "only showing top 20 rows\n",
      "\n"
     ]
    }
   ],
   "source": [
    "no_of_unqiue_channel = bank_transaction_df \\\n",
    "                            .select(col('channel')) \\\n",
    "                            .distinct() \\\n",
    "                            .count()\n",
    "\n",
    "customers_used_all_channels_in_week = bank_transaction_df \\\n",
    "                                            .groupBy(window(col('txn_timestamp'), '7 day'), col('customer_id')) \\\n",
    "                                            .agg(collect_set(col('channel')).alias('channel_set')) \\\n",
    "                                            .where(size(col('channel_set')) == no_of_unqiue_channel) \\\n",
    "                                            .select(col('customer_id'))\n",
    "\n",
    "customers_used_all_channels_in_week \\\n",
    "        .write \\\n",
    "        .mode('overwrite') \\\n",
    "        .format('parquet') \\\n",
    "        .option('path', '/user/shamithna75gedu/banking/parquet/customers_used_all_channels_in_week/') \\\n",
    "        .saveAsTable('banking_shamithna75gedu.customers_used_all_channels_in_week')\n",
    "\n",
    "customers_used_all_channels_in_week.show()"
   ]
  },
  {
   "cell_type": "code",
   "execution_count": 34,
   "id": "fef377a0-db52-432f-a8df-04872724c8cc",
   "metadata": {},
   "outputs": [],
   "source": [
    "spark.stop()"
   ]
  },
  {
   "cell_type": "markdown",
   "id": "effdadba-0a5c-4837-bcd8-3bfcb9806bef",
   "metadata": {},
   "source": [
    "---"
   ]
  },
  {
   "cell_type": "markdown",
   "id": "7337dbe8-fcd1-42e4-b76e-c9fd84b7a104",
   "metadata": {
    "jp-MarkdownHeadingCollapsed": true,
    "tags": []
   },
   "source": [
    "## Real-Time Fraud Detection Pipeline"
   ]
  },
  {
   "cell_type": "markdown",
   "id": "ae26890a-80a9-4bf4-a215-acc932b0ad7e",
   "metadata": {},
   "source": [
    "- Simulate real-time transactions using Kafka producer (send events from the CSV file).\n",
    "- Develop a Spark Streaming (PySpark) application to:\n",
    "    - Consume Kafka stream\n",
    "    - Parse and validate data\n",
    "    - Apply real-time fraud logic:\n",
    "- **If a customer performs more than two withdrawals over ₹400 within a 1-minute window, flag the behavior as suspicious.**\n",
    "- Output suspicious transaction records as alerts."
   ]
  },
  {
   "cell_type": "code",
   "execution_count": 35,
   "id": "211a0af3-ef86-4a66-9bfc-552d682be432",
   "metadata": {},
   "outputs": [],
   "source": [
    "from pyspark.sql import SparkSession\n",
    "from pyspark.sql.functions import col, from_csv, window, collect_list, struct, explode, lit\n",
    "from pyspark.sql.window import *\n",
    "import happybase"
   ]
  },
  {
   "cell_type": "code",
   "execution_count": 36,
   "id": "e31255bf-a7d9-4843-9399-928b5a910e3e",
   "metadata": {},
   "outputs": [
    {
     "name": "stderr",
     "output_type": "stream",
     "text": [
      "25/06/26 12:49:22 WARN Utils: Service 'SparkUI' could not bind on port 4040. Attempting port 4041.\n",
      "25/06/26 12:49:22 WARN Utils: Service 'SparkUI' could not bind on port 4041. Attempting port 4042.\n",
      "25/06/26 12:49:22 WARN Utils: Service 'SparkUI' could not bind on port 4042. Attempting port 4043.\n",
      "25/06/26 12:49:22 WARN Utils: Service 'SparkUI' could not bind on port 4043. Attempting port 4044.\n",
      "25/06/26 12:49:22 WARN Utils: Service 'SparkUI' could not bind on port 4044. Attempting port 4045.\n",
      "25/06/26 12:49:22 WARN Utils: Service 'SparkUI' could not bind on port 4045. Attempting port 4046.\n",
      "25/06/26 12:49:22 WARN Utils: Service 'SparkUI' could not bind on port 4046. Attempting port 4047.\n",
      "25/06/26 12:49:22 WARN Utils: Service 'SparkUI' could not bind on port 4047. Attempting port 4048.\n"
     ]
    }
   ],
   "source": [
    "spark = SparkSession \\\n",
    "            .builder \\\n",
    "            .master('local[5]') \\\n",
    "            .appName('real-time-fraud-detection') \\\n",
    "            .getOrCreate()"
   ]
  },
  {
   "cell_type": "code",
   "execution_count": 37,
   "id": "acaa4a88-9bce-46a5-9a06-04657db22adf",
   "metadata": {},
   "outputs": [
    {
     "name": "stdout",
     "output_type": "stream",
     "text": [
      "\n",
      "transaction_id INT NOT NULL,\n",
      "customer_id INT,\n",
      "txn_timestamp TIMESTAMP NOT NULL,\n",
      "amount DOUBLE,\n",
      "transaction_type STRING,\n",
      "status STRING,\n",
      "txn_day INT NOT NULL,\n",
      "txn_hour INT NOT NULL,\n",
      "channel STRING\n",
      "\n"
     ]
    }
   ],
   "source": [
    "bank_txn_schema = \\\n",
    "'''\n",
    "transaction_id INT NOT NULL,\n",
    "customer_id INT,\n",
    "txn_timestamp TIMESTAMP NOT NULL,\n",
    "amount DOUBLE,\n",
    "transaction_type STRING,\n",
    "status STRING,\n",
    "txn_day INT NOT NULL,\n",
    "txn_hour INT NOT NULL,\n",
    "channel STRING\n",
    "'''\n",
    "\n",
    "print(bank_txn_schema)"
   ]
  },
  {
   "cell_type": "code",
   "execution_count": 38,
   "id": "51c7df84-8722-4049-839b-20058cbf4457",
   "metadata": {},
   "outputs": [
    {
     "name": "stdout",
     "output_type": "stream",
     "text": [
      "root\n",
      " |-- key: binary (nullable = true)\n",
      " |-- value: binary (nullable = true)\n",
      " |-- topic: string (nullable = true)\n",
      " |-- partition: integer (nullable = true)\n",
      " |-- offset: long (nullable = true)\n",
      " |-- timestamp: timestamp (nullable = true)\n",
      " |-- timestampType: integer (nullable = true)\n",
      "\n"
     ]
    }
   ],
   "source": [
    "bank_txn_stream_df = spark \\\n",
    "                        .readStream \\\n",
    "                        .format('kafka') \\\n",
    "                        .option('kafka.bootstrap.servers', 'master:9092') \\\n",
    "                        .option('subscribe', 'bank_txn_shamithna75gedu') \\\n",
    "                        .option('checkpointLocation', 'chk_bank_txn_shamithna75gedu') \\\n",
    "                        .option('startingOffsets', 'latest') \\\n",
    "                        .load()\n",
    "\n",
    "bank_txn_stream_df.printSchema()"
   ]
  },
  {
   "cell_type": "code",
   "execution_count": 39,
   "id": "0adb8caa-df67-422f-bc04-11082cf05717",
   "metadata": {},
   "outputs": [
    {
     "name": "stdout",
     "output_type": "stream",
     "text": [
      "root\n",
      " |-- transaction_id: integer (nullable = true)\n",
      " |-- customer_id: integer (nullable = true)\n",
      " |-- txn_timestamp: timestamp (nullable = true)\n",
      " |-- amount: double (nullable = true)\n",
      " |-- transaction_type: string (nullable = true)\n",
      " |-- status: string (nullable = true)\n",
      " |-- txn_day: integer (nullable = true)\n",
      " |-- txn_hour: integer (nullable = true)\n",
      " |-- channel: string (nullable = true)\n",
      "\n"
     ]
    }
   ],
   "source": [
    "bank_txn_stream_df = bank_txn_stream_df \\\n",
    "                        .select(\n",
    "                            from_csv(\n",
    "                                col('value').cast('string'),\n",
    "                                bank_txn_schema) \\\n",
    "                            .alias('values')) \\\n",
    "                        .select('values.*')\n",
    "\n",
    "bank_txn_stream_df.printSchema()"
   ]
  },
  {
   "cell_type": "code",
   "execution_count": 40,
   "id": "00505b26-6163-436c-b5f6-13b1d14f0f2f",
   "metadata": {},
   "outputs": [],
   "source": [
    "suspicious_txn_stream = bank_txn_stream_df \\\n",
    "                            .where(col('transaction_type') == 'withdrawal') \\\n",
    "                            .where(col('amount') > 400)"
   ]
  },
  {
   "cell_type": "markdown",
   "id": "69158183-8064-406b-b4b8-5e42ac626ac7",
   "metadata": {},
   "source": [
    "```bash\n",
    "create_namespace 'banking_shamithna75gedu'\n",
    "\n",
    "create 'banking_shamithna75gedu:suspicious_transaction', {NAME => 'info', VERSIONS => 4}\n",
    "```"
   ]
  },
  {
   "cell_type": "code",
   "execution_count": 46,
   "id": "a6de0e08-8cfd-4b3f-8834-3a4689c99999",
   "metadata": {},
   "outputs": [],
   "source": [
    "def write_into_hbase(batch_df, batch_id):\n",
    "    required_attribute_names = [\n",
    "        'transaction_count',\n",
    "        'transaction_id',\n",
    "        'customer_id',\n",
    "        'txn_timestamp',\n",
    "        'amount',\n",
    "        'channel'\n",
    "    ]\n",
    "\n",
    "    windowed_df = batch_df \\\n",
    "                    .groupBy(\n",
    "                        window(col('txn_timestamp'), '1 minute'),\n",
    "                        col('customer_id')) \\\n",
    "                    .agg(count('transaction_id').alias('transaction_count')) \\\n",
    "                    .where(col('transaction_count') > 2)\n",
    "\n",
    "    res_df = windowed_df \\\n",
    "                .join(batch_df, on='customer_id', how='inner') \\\n",
    "                .where(col('txn_timestamp') >= col('window.start')) \\\n",
    "                .where(col('txn_timestamp') <= col('window.end')) \\\n",
    "                .withColumn('reason', lit('Withdrew amount more than 400 INR multiple times within small timeframe')) \\\n",
    "                .select(*required_attribute_names)\n",
    "\n",
    "    res_df.show()\n",
    "\n",
    "    data = res_df.collect()\n",
    "\n",
    "    connection = happybase.Connection('master')  \n",
    "    table = connection.table('banking_shamithna75gedu.suspicious_transaction')\n",
    "\n",
    "    for row in data:\n",
    "        row_key = f\"{row['customer_id']}_{row['transaction_id']}\"\n",
    "        record_data = { \n",
    "            str(f'info:{column}').encode() : str(row[column]).encode()\n",
    "            for column in required_attribute_names \n",
    "        }\n",
    "        table.put(row_key, record_data)\n",
    "\n",
    "    connection.close()"
   ]
  },
  {
   "cell_type": "markdown",
   "id": "c6627b45-60b5-4914-8272-53436b9d0e85",
   "metadata": {},
   "source": [
    "```bash\n",
    "hdfs dfs -cat '/user/shamithna75gedu/banking/raw/banking_transactions.csv' | tail +2 | \\\n",
    "kafka-console-producer.sh \\\n",
    "    --bootstrap-server master:9092 \\\n",
    "    --topic bank_txn_shamithna75gedu\n",
    "```"
   ]
  },
  {
   "cell_type": "code",
   "execution_count": null,
   "id": "831c002e-30fa-44d3-a37c-5e755676ac50",
   "metadata": {
    "scrolled": true,
    "tags": []
   },
   "outputs": [
    {
     "name": "stderr",
     "output_type": "stream",
     "text": [
      "25/06/26 13:04:53 WARN StreamingQueryManager: Temporary checkpoint location created which is deleted normally when the query didn't fail: /tmp/temporary-c021e042-7a21-43ea-b873-133d80a0f7ff. If it's required to delete it under any circumstances, please set spark.sql.streaming.forceDeleteTempCheckpointLocation to true. Important to know deleting temp checkpoint folder is best effort.\n",
      "                                                                                \r"
     ]
    },
    {
     "name": "stdout",
     "output_type": "stream",
     "text": [
      "+-----------------+--------------+-----------+-------------+------+-------+\n",
      "|transaction_count|transaction_id|customer_id|txn_timestamp|amount|channel|\n",
      "+-----------------+--------------+-----------+-------------+------+-------+\n",
      "+-----------------+--------------+-----------+-------------+------+-------+\n",
      "\n"
     ]
    },
    {
     "name": "stderr",
     "output_type": "stream",
     "text": [
      "                                                                                \r"
     ]
    },
    {
     "name": "stdout",
     "output_type": "stream",
     "text": [
      "+-----------------+--------------+-----------+-------------------+------+-------+\n",
      "|transaction_count|transaction_id|customer_id|      txn_timestamp|amount|channel|\n",
      "+-----------------+--------------+-----------+-------------------+------+-------+\n",
      "|                3|             1|       1082|2025-05-30 22:50:12| 400.2|     22|\n",
      "|                3|             6|       1082|2025-05-30 22:50:12| 419.2|     22|\n",
      "|                3|            10|       1082|2025-05-30 22:50:12| 419.2|     22|\n",
      "+-----------------+--------------+-----------+-------------------+------+-------+\n",
      "\n"
     ]
    },
    {
     "name": "stderr",
     "output_type": "stream",
     "text": [
      "                                                                                \r"
     ]
    }
   ],
   "source": [
    "suspicious_txn_stream \\\n",
    "    .writeStream \\\n",
    "    .format('console') \\\n",
    "    .foreachBatch(write_into_hbase) \\\n",
    "    .start() \\\n",
    "    .awaitTermination()"
   ]
  },
  {
   "cell_type": "markdown",
   "id": "93bde60c-b0ab-4bd4-a5d1-a9ea4aa0c0a6",
   "metadata": {},
   "source": [
    "```bash\n",
    "echo \"echo 'scan banking_shamithna75gedu.suspicious_transaction'\" | hbase shell\n",
    "```"
   ]
  },
  {
   "cell_type": "markdown",
   "id": "2eefaeee-da4c-434f-95bc-dc1d1448d4ff",
   "metadata": {},
   "source": [
    "---"
   ]
  },
  {
   "cell_type": "markdown",
   "id": "3bd29aa2-a9ed-4545-b3bc-0cdb0eb1211f",
   "metadata": {
    "jp-MarkdownHeadingCollapsed": true,
    "tags": []
   },
   "source": [
    "### [RETRACTED]"
   ]
  },
  {
   "cell_type": "markdown",
   "id": "028db432-7cf6-452e-a8c3-eb771be38283",
   "metadata": {},
   "source": [
    "```python\n",
    "suspicious_txn_stream = suspicious_txn_stream \\\n",
    "                            .withWatermark('txn_timestamp', '1 minute') \\\n",
    "                            .groupBy(\n",
    "                                window(col('txn_timestamp'), '1 minute', '1 second').alias('window'),\n",
    "                                col('customer_id')) \\\n",
    "                            .agg(\n",
    "                                collect_list(struct('*')).alias('transactions'),\n",
    "                                count('transaction_id').alias('transaction_count')) \\\n",
    "                            .where(col(\"transaction_count\") > 2)\n",
    "\n",
    "suspicious_txn_stream.printSchema()\n",
    "```"
   ]
  },
  {
   "cell_type": "markdown",
   "id": "4732a296-55f4-4ab4-ba47-b74eb7d49a2a",
   "metadata": {},
   "source": [
    "```python\n",
    "suspicious_txn_stream = suspicious_txn_stream \\\n",
    "                        .withColumn('txn_cols', explode(col('transactions'))) \\\n",
    "                        .select(\n",
    "                            col('transaction_count'),\n",
    "                            col('txn_cols.*'))\n",
    "\n",
    "suspicious_txn_stream.printSchema()\n",
    "```"
   ]
  },
  {
   "cell_type": "markdown",
   "id": "0c71d38a-b7eb-4611-9775-0347b5c3fc69",
   "metadata": {},
   "source": [
    "```python\n",
    "suspicious_txn_stream = suspicious_txn_stream \\\n",
    "                            .select(\n",
    "                                col('transaction_id'),\n",
    "                                col('customer_id'),\n",
    "                                col('txn_timestamp'),\n",
    "                                col('amount'),\n",
    "                                col('channel'),\n",
    "                                col('transaction_count'))\n",
    "\n",
    "suspicious_txn_stream.printSchema()\n",
    "```"
   ]
  },
  {
   "cell_type": "markdown",
   "id": "c5dfe198-14d8-4ae3-98dc-30809e9fbd72",
   "metadata": {},
   "source": [
    "```bash\n",
    "create_namespace 'banking_shamithna75gedu'\n",
    "\n",
    "create 'banking_shamithna75gedu:suspicious_transaction', {NAME => 'info', VERSIONS => 4}\n",
    "```"
   ]
  },
  {
   "cell_type": "markdown",
   "id": "ba69f292-5fc0-42b5-953b-38535b41f572",
   "metadata": {},
   "source": [
    "```python\n",
    "def write_into_hbase(rows, batch):\n",
    "    connection = happybase.Connection('master')  \n",
    "    table = connection.table('banking_shamithna75gedu.suspicious_transaction')\n",
    "    \n",
    "    attribute_names = ['transaction_id', 'customer_id', 'txn_timestamp', 'amount', 'channel']\n",
    "    \n",
    "    data = rows.collect()\n",
    "    \n",
    "    for row in data:\n",
    "        row_key = f\"{row['customer_id']}_{row['transaction_id']}\"\n",
    "        record_data = { f'info:{column}'.encode() : str(row[column]).encode() for column in attribute_names }\n",
    "        record_data['reason'] = str(f\"{row['customer_id']} has withdrawn {row['transaction_count']} times under 1 minute of amount more than 400 rupees (Rs. {row['amount']}).\").encode()\n",
    "        table.put(row_key, record_data)\n",
    "\n",
    "    connection.close()\n",
    "```"
   ]
  },
  {
   "cell_type": "markdown",
   "id": "31b910f1-c6f9-4362-8d54-d06adc3459e7",
   "metadata": {},
   "source": [
    "```bash\n",
    "while IFS= read -r line;do echo $line;sleep 5;done <$(tail +2 /home/shamithna75gedu/capstone-project/bank-transaction/dataset/banking_transaction.csv) | kafka-console-producer.sh --bootstrap-server master:9092 --topic bank_txn_shamithna75gedu\n",
    "```"
   ]
  },
  {
   "cell_type": "markdown",
   "id": "3cdd3fda-9c07-436b-9fd4-4569637db60f",
   "metadata": {},
   "source": [
    "```python\n",
    "suspicious_txn_stream \\\n",
    "    .writeStream \\\n",
    "    .format('console') \\\n",
    "    .foreachBatch(write_into_hbase) \\\n",
    "    .start() \\\n",
    "    .awaitTermination()\n",
    "```"
   ]
  }
 ],
 "metadata": {
  "kernelspec": {
   "display_name": "PySpark 3",
   "language": "python",
   "name": "pyspark3_env"
  },
  "language_info": {
   "codemirror_mode": {
    "name": "ipython",
    "version": 3
   },
   "file_extension": ".py",
   "mimetype": "text/x-python",
   "name": "python",
   "nbconvert_exporter": "python",
   "pygments_lexer": "ipython3",
   "version": "3.9.13"
  }
 },
 "nbformat": 4,
 "nbformat_minor": 5
}
